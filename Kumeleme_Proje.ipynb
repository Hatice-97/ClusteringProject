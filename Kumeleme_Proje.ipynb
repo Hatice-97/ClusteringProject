{
  "cells": [
    {
      "metadata": {
        "trusted": true
      },
      "cell_type": "code",
      "source": "import seaborn as sb\nimport pandas as pd\nimport numpy as np    \nfrom sklearn.model_selection import train_test_split \nfrom sklearn import metrics\nimport matplotlib.pyplot as plt\n%matplotlib inline\nfrom sklearn import preprocessing\nimport collections\nfrom sklearn.cluster import KMeans\nfrom sklearn.decomposition import PCA\nimport scipy.cluster.hierarchy as hier\nfrom sklearn.metrics import silhouette_samples\nfrom matplotlib import cm",
      "execution_count": 4,
      "outputs": []
    },
    {
      "metadata": {
        "trusted": true
      },
      "cell_type": "code",
      "source": "df_train = pd.read_csv('turkiye-student-evaluation_generic.csv')",
      "execution_count": 5,
      "outputs": []
    },
    {
      "metadata": {
        "trusted": true
      },
      "cell_type": "code",
      "source": "df_train.info()",
      "execution_count": 7,
      "outputs": [
        {
          "output_type": "stream",
          "text": "<class 'pandas.core.frame.DataFrame'>\nRangeIndex: 5820 entries, 0 to 5819\nData columns (total 33 columns):\ninstr         5820 non-null int64\nclass         5820 non-null int64\nnb.repeat     5820 non-null int64\nattendance    5820 non-null int64\ndifficulty    5820 non-null int64\nQ1            5820 non-null int64\nQ2            5820 non-null int64\nQ3            5820 non-null int64\nQ4            5820 non-null int64\nQ5            5820 non-null int64\nQ6            5820 non-null int64\nQ7            5820 non-null int64\nQ8            5820 non-null int64\nQ9            5820 non-null int64\nQ10           5820 non-null int64\nQ11           5820 non-null int64\nQ12           5820 non-null int64\nQ13           5820 non-null int64\nQ14           5820 non-null int64\nQ15           5820 non-null int64\nQ16           5820 non-null int64\nQ17           5820 non-null int64\nQ18           5820 non-null int64\nQ19           5820 non-null int64\nQ20           5820 non-null int64\nQ21           5820 non-null int64\nQ22           5820 non-null int64\nQ23           5820 non-null int64\nQ24           5820 non-null int64\nQ25           5820 non-null int64\nQ26           5820 non-null int64\nQ27           5820 non-null int64\nQ28           5820 non-null int64\ndtypes: int64(33)\nmemory usage: 1.5 MB\n",
          "name": "stdout"
        }
      ]
    },
    {
      "metadata": {
        "trusted": true
      },
      "cell_type": "code",
      "source": "plt.figure(figsize=(10, 6))\nsb.countplot(x='attendance', data=df_train)",
      "execution_count": 8,
      "outputs": [
        {
          "output_type": "execute_result",
          "execution_count": 8,
          "data": {
            "text/plain": "<matplotlib.axes._subplots.AxesSubplot at 0x7fd352d8ef60>"
          },
          "metadata": {}
        },
        {
          "output_type": "display_data",
          "data": {
            "image/png": "[encoded data removed]",
            "text/plain": "<Figure size 720x432 with 1 Axes>"
          },
          "metadata": {
            "needs_background": "light"
          }
        }
      ]
    },
    {
      "metadata": {
        "trusted": true
      },
      "cell_type": "code",
      "source": "",
      "execution_count": null,
      "outputs": []
    }
  ],
  "metadata": {
    "kernelspec": {
      "name": "python36",
      "display_name": "Python 3.6",
      "language": "python"
    },
    "language_info": {
      "mimetype": "text/x-python",
      "nbconvert_exporter": "python",
      "name": "python",
      "pygments_lexer": "ipython3",
      "version": "3.6.6",
      "file_extension": ".py",
      "codemirror_mode": {
        "version": 3,
        "name": "ipython"
      }
    }
  },
  "nbformat": 4,
  "nbformat_minor": 1
}